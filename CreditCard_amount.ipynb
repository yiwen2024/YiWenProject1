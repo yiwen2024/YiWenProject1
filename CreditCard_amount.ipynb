{
 "cells": [
  {
   "cell_type": "code",
   "execution_count": 1,
   "metadata": {},
   "outputs": [
    {
     "data": {
      "text/html": [
       "<div>\n",
       "<style scoped>\n",
       "    .dataframe tbody tr th:only-of-type {\n",
       "        vertical-align: middle;\n",
       "    }\n",
       "\n",
       "    .dataframe tbody tr th {\n",
       "        vertical-align: top;\n",
       "    }\n",
       "\n",
       "    .dataframe thead th {\n",
       "        text-align: right;\n",
       "    }\n",
       "</style>\n",
       "<table border=\"1\" class=\"dataframe\">\n",
       "  <thead>\n",
       "    <tr style=\"text-align: right;\">\n",
       "      <th></th>\n",
       "      <th>Unnamed: 0</th>\n",
       "      <th>trans_date_trans_time</th>\n",
       "      <th>cc_num</th>\n",
       "      <th>merchant</th>\n",
       "      <th>category</th>\n",
       "      <th>amt</th>\n",
       "      <th>first</th>\n",
       "      <th>last</th>\n",
       "      <th>gender</th>\n",
       "      <th>street</th>\n",
       "      <th>...</th>\n",
       "      <th>lat</th>\n",
       "      <th>long</th>\n",
       "      <th>city_pop</th>\n",
       "      <th>job</th>\n",
       "      <th>dob</th>\n",
       "      <th>trans_num</th>\n",
       "      <th>unix_time</th>\n",
       "      <th>merch_lat</th>\n",
       "      <th>merch_long</th>\n",
       "      <th>is_fraud</th>\n",
       "    </tr>\n",
       "  </thead>\n",
       "  <tbody>\n",
       "    <tr>\n",
       "      <th>0</th>\n",
       "      <td>0</td>\n",
       "      <td>21/06/2020 12:14</td>\n",
       "      <td>2.291160e+15</td>\n",
       "      <td>fraud_Kirlin and Sons</td>\n",
       "      <td>personal_care</td>\n",
       "      <td>2.86</td>\n",
       "      <td>Jeff</td>\n",
       "      <td>Elliott</td>\n",
       "      <td>M</td>\n",
       "      <td>351 Darlene Green</td>\n",
       "      <td>...</td>\n",
       "      <td>33.9659</td>\n",
       "      <td>-80.9355</td>\n",
       "      <td>333497</td>\n",
       "      <td>Mechanical engineer</td>\n",
       "      <td>19/03/1968</td>\n",
       "      <td>2da90c7d74bd46a0caf3777415b3ebd3</td>\n",
       "      <td>1371816865</td>\n",
       "      <td>33.986391</td>\n",
       "      <td>-81.200714</td>\n",
       "      <td>0</td>\n",
       "    </tr>\n",
       "    <tr>\n",
       "      <th>1</th>\n",
       "      <td>1</td>\n",
       "      <td>21/06/2020 12:14</td>\n",
       "      <td>3.573030e+15</td>\n",
       "      <td>fraud_Sporer-Keebler</td>\n",
       "      <td>personal_care</td>\n",
       "      <td>29.84</td>\n",
       "      <td>Joanne</td>\n",
       "      <td>Williams</td>\n",
       "      <td>F</td>\n",
       "      <td>3638 Marsh Union</td>\n",
       "      <td>...</td>\n",
       "      <td>40.3207</td>\n",
       "      <td>-110.4360</td>\n",
       "      <td>302</td>\n",
       "      <td>Sales professional, IT</td>\n",
       "      <td>17/01/1990</td>\n",
       "      <td>324cc204407e99f51b0d6ca0055005e7</td>\n",
       "      <td>1371816873</td>\n",
       "      <td>39.450498</td>\n",
       "      <td>-109.960431</td>\n",
       "      <td>0</td>\n",
       "    </tr>\n",
       "    <tr>\n",
       "      <th>2</th>\n",
       "      <td>2</td>\n",
       "      <td>21/06/2020 12:14</td>\n",
       "      <td>3.598220e+15</td>\n",
       "      <td>fraud_Swaniawski, Nitzsche and Welch</td>\n",
       "      <td>health_fitness</td>\n",
       "      <td>41.28</td>\n",
       "      <td>Ashley</td>\n",
       "      <td>Lopez</td>\n",
       "      <td>F</td>\n",
       "      <td>9333 Valentine Point</td>\n",
       "      <td>...</td>\n",
       "      <td>40.6729</td>\n",
       "      <td>-73.5365</td>\n",
       "      <td>34496</td>\n",
       "      <td>Librarian, public</td>\n",
       "      <td>21/10/1970</td>\n",
       "      <td>c81755dbbbea9d5c77f094348a7579be</td>\n",
       "      <td>1371816893</td>\n",
       "      <td>40.495810</td>\n",
       "      <td>-74.196111</td>\n",
       "      <td>0</td>\n",
       "    </tr>\n",
       "    <tr>\n",
       "      <th>3</th>\n",
       "      <td>3</td>\n",
       "      <td>21/06/2020 12:15</td>\n",
       "      <td>3.591920e+15</td>\n",
       "      <td>fraud_Haley Group</td>\n",
       "      <td>misc_pos</td>\n",
       "      <td>60.05</td>\n",
       "      <td>Brian</td>\n",
       "      <td>Williams</td>\n",
       "      <td>M</td>\n",
       "      <td>32941 Krystal Mill Apt. 552</td>\n",
       "      <td>...</td>\n",
       "      <td>28.5697</td>\n",
       "      <td>-80.8191</td>\n",
       "      <td>54767</td>\n",
       "      <td>Set designer</td>\n",
       "      <td>25/07/1987</td>\n",
       "      <td>2159175b9efe66dc301f149d3d5abf8c</td>\n",
       "      <td>1371816915</td>\n",
       "      <td>28.812398</td>\n",
       "      <td>-80.883061</td>\n",
       "      <td>0</td>\n",
       "    </tr>\n",
       "    <tr>\n",
       "      <th>4</th>\n",
       "      <td>4</td>\n",
       "      <td>21/06/2020 12:15</td>\n",
       "      <td>3.526830e+15</td>\n",
       "      <td>fraud_Johnston-Casper</td>\n",
       "      <td>travel</td>\n",
       "      <td>3.19</td>\n",
       "      <td>Nathan</td>\n",
       "      <td>Massey</td>\n",
       "      <td>M</td>\n",
       "      <td>5783 Evan Roads Apt. 465</td>\n",
       "      <td>...</td>\n",
       "      <td>44.2529</td>\n",
       "      <td>-85.0170</td>\n",
       "      <td>1126</td>\n",
       "      <td>Furniture designer</td>\n",
       "      <td>06/07/1955</td>\n",
       "      <td>57ff021bd3f328f8738bb535c302a31b</td>\n",
       "      <td>1371816917</td>\n",
       "      <td>44.959148</td>\n",
       "      <td>-85.884734</td>\n",
       "      <td>0</td>\n",
       "    </tr>\n",
       "  </tbody>\n",
       "</table>\n",
       "<p>5 rows × 23 columns</p>\n",
       "</div>"
      ],
      "text/plain": [
       "   Unnamed: 0 trans_date_trans_time        cc_num  \\\n",
       "0           0      21/06/2020 12:14  2.291160e+15   \n",
       "1           1      21/06/2020 12:14  3.573030e+15   \n",
       "2           2      21/06/2020 12:14  3.598220e+15   \n",
       "3           3      21/06/2020 12:15  3.591920e+15   \n",
       "4           4      21/06/2020 12:15  3.526830e+15   \n",
       "\n",
       "                               merchant        category    amt   first  \\\n",
       "0                 fraud_Kirlin and Sons   personal_care   2.86    Jeff   \n",
       "1                  fraud_Sporer-Keebler   personal_care  29.84  Joanne   \n",
       "2  fraud_Swaniawski, Nitzsche and Welch  health_fitness  41.28  Ashley   \n",
       "3                     fraud_Haley Group        misc_pos  60.05   Brian   \n",
       "4                 fraud_Johnston-Casper          travel   3.19  Nathan   \n",
       "\n",
       "       last gender                       street  ...      lat      long  \\\n",
       "0   Elliott      M            351 Darlene Green  ...  33.9659  -80.9355   \n",
       "1  Williams      F             3638 Marsh Union  ...  40.3207 -110.4360   \n",
       "2     Lopez      F         9333 Valentine Point  ...  40.6729  -73.5365   \n",
       "3  Williams      M  32941 Krystal Mill Apt. 552  ...  28.5697  -80.8191   \n",
       "4    Massey      M     5783 Evan Roads Apt. 465  ...  44.2529  -85.0170   \n",
       "\n",
       "   city_pop                     job         dob  \\\n",
       "0    333497     Mechanical engineer  19/03/1968   \n",
       "1       302  Sales professional, IT  17/01/1990   \n",
       "2     34496       Librarian, public  21/10/1970   \n",
       "3     54767            Set designer  25/07/1987   \n",
       "4      1126      Furniture designer  06/07/1955   \n",
       "\n",
       "                          trans_num   unix_time  merch_lat  merch_long  \\\n",
       "0  2da90c7d74bd46a0caf3777415b3ebd3  1371816865  33.986391  -81.200714   \n",
       "1  324cc204407e99f51b0d6ca0055005e7  1371816873  39.450498 -109.960431   \n",
       "2  c81755dbbbea9d5c77f094348a7579be  1371816893  40.495810  -74.196111   \n",
       "3  2159175b9efe66dc301f149d3d5abf8c  1371816915  28.812398  -80.883061   \n",
       "4  57ff021bd3f328f8738bb535c302a31b  1371816917  44.959148  -85.884734   \n",
       "\n",
       "   is_fraud  \n",
       "0         0  \n",
       "1         0  \n",
       "2         0  \n",
       "3         0  \n",
       "4         0  \n",
       "\n",
       "[5 rows x 23 columns]"
      ]
     },
     "execution_count": 1,
     "metadata": {},
     "output_type": "execute_result"
    }
   ],
   "source": [
    "# Dependencies\n",
    "import matplotlib.pyplot as plt\n",
    "import scipy.stats as st\n",
    "import pandas as pd\n",
    "import numpy as np\n",
    "from scipy import stats\n",
    "from pathlib import Path\n",
    "from matplotlib.pyplot import figure\n",
    "import warnings\n",
    "warnings.filterwarnings(\"ignore\")\n",
    "\n",
    "# File to Load \n",
    "total_data_to_load = Path(\"fraud test.csv\")\n",
    "\n",
    "# Read data and store into Pandas DataFrames\n",
    "total_data_df = pd.read_csv(total_data_to_load)\n",
    "total_data_df.head()"
   ]
  },
  {
   "cell_type": "markdown",
   "metadata": {},
   "source": [
    "# Data clean and plot the horizontal bar graph"
   ]
  },
  {
   "cell_type": "code",
   "execution_count": 2,
   "metadata": {},
   "outputs": [
    {
     "data": {
      "text/html": [
       "<div>\n",
       "<style scoped>\n",
       "    .dataframe tbody tr th:only-of-type {\n",
       "        vertical-align: middle;\n",
       "    }\n",
       "\n",
       "    .dataframe tbody tr th {\n",
       "        vertical-align: top;\n",
       "    }\n",
       "\n",
       "    .dataframe thead th {\n",
       "        text-align: right;\n",
       "    }\n",
       "</style>\n",
       "<table border=\"1\" class=\"dataframe\">\n",
       "  <thead>\n",
       "    <tr style=\"text-align: right;\">\n",
       "      <th></th>\n",
       "      <th>amt</th>\n",
       "    </tr>\n",
       "  </thead>\n",
       "  <tbody>\n",
       "    <tr>\n",
       "      <th>0</th>\n",
       "      <td>2.86</td>\n",
       "    </tr>\n",
       "    <tr>\n",
       "      <th>1</th>\n",
       "      <td>29.84</td>\n",
       "    </tr>\n",
       "    <tr>\n",
       "      <th>2</th>\n",
       "      <td>41.28</td>\n",
       "    </tr>\n",
       "    <tr>\n",
       "      <th>3</th>\n",
       "      <td>60.05</td>\n",
       "    </tr>\n",
       "    <tr>\n",
       "      <th>4</th>\n",
       "      <td>3.19</td>\n",
       "    </tr>\n",
       "  </tbody>\n",
       "</table>\n",
       "</div>"
      ],
      "text/plain": [
       "     amt\n",
       "0   2.86\n",
       "1  29.84\n",
       "2  41.28\n",
       "3  60.05\n",
       "4   3.19"
      ]
     },
     "execution_count": 2,
     "metadata": {},
     "output_type": "execute_result"
    }
   ],
   "source": [
    "\n",
    "# Define variables for data of total transactions\n",
    "clean_total_df = total_data_df[['amt']]\n",
    "clean_total_df.head()\n"
   ]
  },
  {
   "cell_type": "code",
   "execution_count": 3,
   "metadata": {},
   "outputs": [
    {
     "data": {
      "text/plain": [
       "0       A(<50)\n",
       "1       A(<50)\n",
       "2       A(<50)\n",
       "3    B(50-100)\n",
       "4       A(<50)\n",
       "Name: amt, dtype: category\n",
       "Categories (12, object): ['A(<50)' < 'B(50-100)' < 'C(100-200)' < 'D(200-300)' ... 'I(700-800)' < 'J(800-900)' < 'K(900-1000)' < 'L(1000-1500)']"
      ]
     },
     "execution_count": 3,
     "metadata": {},
     "output_type": "execute_result"
    }
   ],
   "source": [
    "# Establish the bins for data set of total transactions\n",
    "bins = [0, 50, 100, 200, 300, 400, 500, 600, 700, 800, 900, 1000, 1500]\n",
    "labels = [\"A(<50)\", \"B(50-100)\",\"C(100-200)\", \"D(200-300)\", \"E(300-400)\", \"F(400-500)\", \"G(500-600)\", \"H(600-700)\", \"I(700-800)\", \"J(800-900)\", \"K(900-1000)\", \"L(1000-1500)\"]\n",
    "# Slice the data and place it into bins\n",
    "pd.cut(clean_total_df[\"amt\"], bins, labels=labels,right=False).head()\n"
   ]
  },
  {
   "cell_type": "code",
   "execution_count": 4,
   "metadata": {},
   "outputs": [
    {
     "data": {
      "text/html": [
       "<div>\n",
       "<style scoped>\n",
       "    .dataframe tbody tr th:only-of-type {\n",
       "        vertical-align: middle;\n",
       "    }\n",
       "\n",
       "    .dataframe tbody tr th {\n",
       "        vertical-align: top;\n",
       "    }\n",
       "\n",
       "    .dataframe thead th {\n",
       "        text-align: right;\n",
       "    }\n",
       "</style>\n",
       "<table border=\"1\" class=\"dataframe\">\n",
       "  <thead>\n",
       "    <tr style=\"text-align: right;\">\n",
       "      <th></th>\n",
       "      <th>amt</th>\n",
       "      <th>amt_group</th>\n",
       "    </tr>\n",
       "  </thead>\n",
       "  <tbody>\n",
       "    <tr>\n",
       "      <th>0</th>\n",
       "      <td>2.86</td>\n",
       "      <td>A(&lt;50)</td>\n",
       "    </tr>\n",
       "    <tr>\n",
       "      <th>1</th>\n",
       "      <td>29.84</td>\n",
       "      <td>A(&lt;50)</td>\n",
       "    </tr>\n",
       "    <tr>\n",
       "      <th>2</th>\n",
       "      <td>41.28</td>\n",
       "      <td>A(&lt;50)</td>\n",
       "    </tr>\n",
       "    <tr>\n",
       "      <th>3</th>\n",
       "      <td>60.05</td>\n",
       "      <td>B(50-100)</td>\n",
       "    </tr>\n",
       "    <tr>\n",
       "      <th>4</th>\n",
       "      <td>3.19</td>\n",
       "      <td>A(&lt;50)</td>\n",
       "    </tr>\n",
       "  </tbody>\n",
       "</table>\n",
       "</div>"
      ],
      "text/plain": [
       "     amt  amt_group\n",
       "0   2.86     A(<50)\n",
       "1  29.84     A(<50)\n",
       "2  41.28     A(<50)\n",
       "3  60.05  B(50-100)\n",
       "4   3.19     A(<50)"
      ]
     },
     "execution_count": 4,
     "metadata": {},
     "output_type": "execute_result"
    }
   ],
   "source": [
    "# Create a data frame \n",
    "clean_total_df['amt_group'] = pd.cut(clean_total_df['amt'], bins, labels=labels,right=False)\n",
    "clean_total_df.head()"
   ]
  },
  {
   "cell_type": "code",
   "execution_count": 5,
   "metadata": {},
   "outputs": [],
   "source": [
    "# Count number of transactions for each group of amount\n",
    "group_total_df = clean_total_df.groupby(\"amt_group\").count()"
   ]
  },
  {
   "cell_type": "code",
   "execution_count": 6,
   "metadata": {},
   "outputs": [
    {
     "data": {
      "text/html": [
       "<div>\n",
       "<style scoped>\n",
       "    .dataframe tbody tr th:only-of-type {\n",
       "        vertical-align: middle;\n",
       "    }\n",
       "\n",
       "    .dataframe tbody tr th {\n",
       "        vertical-align: top;\n",
       "    }\n",
       "\n",
       "    .dataframe thead th {\n",
       "        text-align: right;\n",
       "    }\n",
       "</style>\n",
       "<table border=\"1\" class=\"dataframe\">\n",
       "  <thead>\n",
       "    <tr style=\"text-align: right;\">\n",
       "      <th></th>\n",
       "      <th>count</th>\n",
       "    </tr>\n",
       "    <tr>\n",
       "      <th>amt_group</th>\n",
       "      <th></th>\n",
       "    </tr>\n",
       "  </thead>\n",
       "  <tbody>\n",
       "    <tr>\n",
       "      <th>A(&lt;50)</th>\n",
       "      <td>288883</td>\n",
       "    </tr>\n",
       "    <tr>\n",
       "      <th>B(50-100)</th>\n",
       "      <td>166835</td>\n",
       "    </tr>\n",
       "    <tr>\n",
       "      <th>C(100-200)</th>\n",
       "      <td>74648</td>\n",
       "    </tr>\n",
       "    <tr>\n",
       "      <th>D(200-300)</th>\n",
       "      <td>13205</td>\n",
       "    </tr>\n",
       "    <tr>\n",
       "      <th>E(300-400)</th>\n",
       "      <td>3477</td>\n",
       "    </tr>\n",
       "    <tr>\n",
       "      <th>F(400-500)</th>\n",
       "      <td>2593</td>\n",
       "    </tr>\n",
       "    <tr>\n",
       "      <th>G(500-600)</th>\n",
       "      <td>1912</td>\n",
       "    </tr>\n",
       "    <tr>\n",
       "      <th>H(600-700)</th>\n",
       "      <td>842</td>\n",
       "    </tr>\n",
       "    <tr>\n",
       "      <th>I(700-800)</th>\n",
       "      <td>632</td>\n",
       "    </tr>\n",
       "    <tr>\n",
       "      <th>J(800-900)</th>\n",
       "      <td>582</td>\n",
       "    </tr>\n",
       "    <tr>\n",
       "      <th>K(900-1000)</th>\n",
       "      <td>527</td>\n",
       "    </tr>\n",
       "    <tr>\n",
       "      <th>L(1000-1500)</th>\n",
       "      <td>976</td>\n",
       "    </tr>\n",
       "  </tbody>\n",
       "</table>\n",
       "</div>"
      ],
      "text/plain": [
       "               count\n",
       "amt_group           \n",
       "A(<50)        288883\n",
       "B(50-100)     166835\n",
       "C(100-200)     74648\n",
       "D(200-300)     13205\n",
       "E(300-400)      3477\n",
       "F(400-500)      2593\n",
       "G(500-600)      1912\n",
       "H(600-700)       842\n",
       "I(700-800)       632\n",
       "J(800-900)       582\n",
       "K(900-1000)      527\n",
       "L(1000-1500)     976"
      ]
     },
     "execution_count": 6,
     "metadata": {},
     "output_type": "execute_result"
    }
   ],
   "source": [
    "# Rename the column of count\n",
    "group_total_df = group_total_df.rename(columns={'amt':'count'})\n",
    "group_total_df"
   ]
  },
  {
   "cell_type": "code",
   "execution_count": 7,
   "metadata": {},
   "outputs": [
    {
     "data": {
      "text/html": [
       "<div>\n",
       "<style scoped>\n",
       "    .dataframe tbody tr th:only-of-type {\n",
       "        vertical-align: middle;\n",
       "    }\n",
       "\n",
       "    .dataframe tbody tr th {\n",
       "        vertical-align: top;\n",
       "    }\n",
       "\n",
       "    .dataframe thead th {\n",
       "        text-align: right;\n",
       "    }\n",
       "</style>\n",
       "<table border=\"1\" class=\"dataframe\">\n",
       "  <thead>\n",
       "    <tr style=\"text-align: right;\">\n",
       "      <th></th>\n",
       "      <th>count</th>\n",
       "      <th>percentage</th>\n",
       "    </tr>\n",
       "    <tr>\n",
       "      <th>amt_group</th>\n",
       "      <th></th>\n",
       "      <th></th>\n",
       "    </tr>\n",
       "  </thead>\n",
       "  <tbody>\n",
       "    <tr>\n",
       "      <th>A(&lt;50)</th>\n",
       "      <td>288883</td>\n",
       "      <td>52.040489</td>\n",
       "    </tr>\n",
       "    <tr>\n",
       "      <th>B(50-100)</th>\n",
       "      <td>166835</td>\n",
       "      <td>30.054295</td>\n",
       "    </tr>\n",
       "    <tr>\n",
       "      <th>C(100-200)</th>\n",
       "      <td>74648</td>\n",
       "      <td>13.447376</td>\n",
       "    </tr>\n",
       "    <tr>\n",
       "      <th>D(200-300)</th>\n",
       "      <td>13205</td>\n",
       "      <td>2.378799</td>\n",
       "    </tr>\n",
       "    <tr>\n",
       "      <th>E(300-400)</th>\n",
       "      <td>3477</td>\n",
       "      <td>0.626360</td>\n",
       "    </tr>\n",
       "    <tr>\n",
       "      <th>F(400-500)</th>\n",
       "      <td>2593</td>\n",
       "      <td>0.467113</td>\n",
       "    </tr>\n",
       "    <tr>\n",
       "      <th>G(500-600)</th>\n",
       "      <td>1912</td>\n",
       "      <td>0.344435</td>\n",
       "    </tr>\n",
       "    <tr>\n",
       "      <th>H(600-700)</th>\n",
       "      <td>842</td>\n",
       "      <td>0.151681</td>\n",
       "    </tr>\n",
       "    <tr>\n",
       "      <th>I(700-800)</th>\n",
       "      <td>632</td>\n",
       "      <td>0.113851</td>\n",
       "    </tr>\n",
       "    <tr>\n",
       "      <th>J(800-900)</th>\n",
       "      <td>582</td>\n",
       "      <td>0.104844</td>\n",
       "    </tr>\n",
       "    <tr>\n",
       "      <th>K(900-1000)</th>\n",
       "      <td>527</td>\n",
       "      <td>0.094936</td>\n",
       "    </tr>\n",
       "    <tr>\n",
       "      <th>L(1000-1500)</th>\n",
       "      <td>976</td>\n",
       "      <td>0.175820</td>\n",
       "    </tr>\n",
       "  </tbody>\n",
       "</table>\n",
       "</div>"
      ],
      "text/plain": [
       "               count  percentage\n",
       "amt_group                       \n",
       "A(<50)        288883   52.040489\n",
       "B(50-100)     166835   30.054295\n",
       "C(100-200)     74648   13.447376\n",
       "D(200-300)     13205    2.378799\n",
       "E(300-400)      3477    0.626360\n",
       "F(400-500)      2593    0.467113\n",
       "G(500-600)      1912    0.344435\n",
       "H(600-700)       842    0.151681\n",
       "I(700-800)       632    0.113851\n",
       "J(800-900)       582    0.104844\n",
       "K(900-1000)      527    0.094936\n",
       "L(1000-1500)     976    0.175820"
      ]
     },
     "execution_count": 7,
     "metadata": {},
     "output_type": "execute_result"
    }
   ],
   "source": [
    "# Count percentage of total transactions for each group of amount\n",
    "group_total_df['percentage'] = (group_total_df['count']/group_total_df['count'].sum())*100\n",
    "group_total_df"
   ]
  },
  {
   "cell_type": "code",
   "execution_count": 8,
   "metadata": {},
   "outputs": [
    {
     "data": {
      "image/png": "[encoded data removed]",
      "text/plain": [
       "<Figure size 800x400 with 1 Axes>"
      ]
     },
     "metadata": {},
     "output_type": "display_data"
    }
   ],
   "source": [
    "# Plot horizontal bar graph\n",
    "# Set labels for axes\n",
    "percentage = group_total_df['percentage']\n",
    "df1 = pd.DataFrame({'percentage(%)': percentage})\n",
    "df1.plot.barh(figsize=(8,4))\n",
    "\n",
    "plt.xlabel('Purchase Amount Count Percentage (%)')\n",
    "plt.ylabel('Range')\n",
    "plt.title('Credit Card Total Transactions')\n",
    "plt.grid()\n",
    "\n",
    "plt.savefig(\"Fig1.png\")\n",
    "plt.show()"
   ]
  },
  {
   "cell_type": "code",
   "execution_count": 9,
   "metadata": {},
   "outputs": [
    {
     "data": {
      "text/html": [
       "<div>\n",
       "<style scoped>\n",
       "    .dataframe tbody tr th:only-of-type {\n",
       "        vertical-align: middle;\n",
       "    }\n",
       "\n",
       "    .dataframe tbody tr th {\n",
       "        vertical-align: top;\n",
       "    }\n",
       "\n",
       "    .dataframe thead th {\n",
       "        text-align: right;\n",
       "    }\n",
       "</style>\n",
       "<table border=\"1\" class=\"dataframe\">\n",
       "  <thead>\n",
       "    <tr style=\"text-align: right;\">\n",
       "      <th></th>\n",
       "      <th>Unnamed: 0</th>\n",
       "      <th>trans_date_trans_time</th>\n",
       "      <th>cc_num</th>\n",
       "      <th>merchant</th>\n",
       "      <th>category</th>\n",
       "      <th>amt</th>\n",
       "      <th>first</th>\n",
       "      <th>last</th>\n",
       "      <th>gender</th>\n",
       "      <th>street</th>\n",
       "      <th>...</th>\n",
       "      <th>lat</th>\n",
       "      <th>long</th>\n",
       "      <th>city_pop</th>\n",
       "      <th>job</th>\n",
       "      <th>dob</th>\n",
       "      <th>trans_num</th>\n",
       "      <th>unix_time</th>\n",
       "      <th>merch_lat</th>\n",
       "      <th>merch_long</th>\n",
       "      <th>is_fraud</th>\n",
       "    </tr>\n",
       "  </thead>\n",
       "  <tbody>\n",
       "    <tr>\n",
       "      <th>1685</th>\n",
       "      <td>1685</td>\n",
       "      <td>21/06/2020 22:06</td>\n",
       "      <td>3.560730e+15</td>\n",
       "      <td>fraud_Hamill-D'Amore</td>\n",
       "      <td>health_fitness</td>\n",
       "      <td>24.84</td>\n",
       "      <td>Brooke</td>\n",
       "      <td>Smith</td>\n",
       "      <td>F</td>\n",
       "      <td>63542 Luna Brook Apt. 012</td>\n",
       "      <td>...</td>\n",
       "      <td>31.8599</td>\n",
       "      <td>-102.7413</td>\n",
       "      <td>23</td>\n",
       "      <td>Cytogeneticist</td>\n",
       "      <td>15/09/1969</td>\n",
       "      <td>16bf2e46c54369a8eab2214649506425</td>\n",
       "      <td>1371852399</td>\n",
       "      <td>32.575873</td>\n",
       "      <td>-102.604290</td>\n",
       "      <td>1</td>\n",
       "    </tr>\n",
       "    <tr>\n",
       "      <th>1767</th>\n",
       "      <td>1767</td>\n",
       "      <td>21/06/2020 22:32</td>\n",
       "      <td>6.564460e+15</td>\n",
       "      <td>fraud_Rodriguez, Yost and Jenkins</td>\n",
       "      <td>misc_net</td>\n",
       "      <td>780.52</td>\n",
       "      <td>Douglas</td>\n",
       "      <td>Willis</td>\n",
       "      <td>M</td>\n",
       "      <td>619 Jeremy Garden Apt. 681</td>\n",
       "      <td>...</td>\n",
       "      <td>42.5545</td>\n",
       "      <td>-90.3508</td>\n",
       "      <td>1306</td>\n",
       "      <td>Public relations officer</td>\n",
       "      <td>10/09/1958</td>\n",
       "      <td>ab4b379d2c0c9c667d46508d4e126d72</td>\n",
       "      <td>1371853942</td>\n",
       "      <td>42.461127</td>\n",
       "      <td>-91.147148</td>\n",
       "      <td>1</td>\n",
       "    </tr>\n",
       "    <tr>\n",
       "      <th>1781</th>\n",
       "      <td>1781</td>\n",
       "      <td>21/06/2020 22:37</td>\n",
       "      <td>6.564460e+15</td>\n",
       "      <td>fraud_Nienow PLC</td>\n",
       "      <td>entertainment</td>\n",
       "      <td>620.33</td>\n",
       "      <td>Douglas</td>\n",
       "      <td>Willis</td>\n",
       "      <td>M</td>\n",
       "      <td>619 Jeremy Garden Apt. 681</td>\n",
       "      <td>...</td>\n",
       "      <td>42.5545</td>\n",
       "      <td>-90.3508</td>\n",
       "      <td>1306</td>\n",
       "      <td>Public relations officer</td>\n",
       "      <td>10/09/1958</td>\n",
       "      <td>47a9987ae81d99f7832a54b29a77bf4b</td>\n",
       "      <td>1371854247</td>\n",
       "      <td>42.771834</td>\n",
       "      <td>-90.158365</td>\n",
       "      <td>1</td>\n",
       "    </tr>\n",
       "    <tr>\n",
       "      <th>1784</th>\n",
       "      <td>1784</td>\n",
       "      <td>21/06/2020 22:38</td>\n",
       "      <td>4.005680e+15</td>\n",
       "      <td>fraud_Heathcote, Yost and Kertzmann</td>\n",
       "      <td>shopping_net</td>\n",
       "      <td>1077.69</td>\n",
       "      <td>William</td>\n",
       "      <td>Perry</td>\n",
       "      <td>M</td>\n",
       "      <td>458 Phillips Island Apt. 768</td>\n",
       "      <td>...</td>\n",
       "      <td>30.4590</td>\n",
       "      <td>-90.9027</td>\n",
       "      <td>71335</td>\n",
       "      <td>Herbalist</td>\n",
       "      <td>31/05/1994</td>\n",
       "      <td>fe956c7e4a253c437c18918bf96f7b62</td>\n",
       "      <td>1371854335</td>\n",
       "      <td>31.204974</td>\n",
       "      <td>-90.261595</td>\n",
       "      <td>1</td>\n",
       "    </tr>\n",
       "    <tr>\n",
       "      <th>1857</th>\n",
       "      <td>1857</td>\n",
       "      <td>21/06/2020 23:02</td>\n",
       "      <td>3.560730e+15</td>\n",
       "      <td>fraud_Hermann and Sons</td>\n",
       "      <td>shopping_pos</td>\n",
       "      <td>842.65</td>\n",
       "      <td>Brooke</td>\n",
       "      <td>Smith</td>\n",
       "      <td>F</td>\n",
       "      <td>63542 Luna Brook Apt. 012</td>\n",
       "      <td>...</td>\n",
       "      <td>31.8599</td>\n",
       "      <td>-102.7413</td>\n",
       "      <td>23</td>\n",
       "      <td>Cytogeneticist</td>\n",
       "      <td>15/09/1969</td>\n",
       "      <td>f6838c01f5d2262006e6b71d33ba7c6d</td>\n",
       "      <td>1371855736</td>\n",
       "      <td>31.315782</td>\n",
       "      <td>-102.736390</td>\n",
       "      <td>1</td>\n",
       "    </tr>\n",
       "  </tbody>\n",
       "</table>\n",
       "<p>5 rows × 23 columns</p>\n",
       "</div>"
      ],
      "text/plain": [
       "      Unnamed: 0 trans_date_trans_time        cc_num  \\\n",
       "1685        1685      21/06/2020 22:06  3.560730e+15   \n",
       "1767        1767      21/06/2020 22:32  6.564460e+15   \n",
       "1781        1781      21/06/2020 22:37  6.564460e+15   \n",
       "1784        1784      21/06/2020 22:38  4.005680e+15   \n",
       "1857        1857      21/06/2020 23:02  3.560730e+15   \n",
       "\n",
       "                                 merchant        category      amt    first  \\\n",
       "1685                 fraud_Hamill-D'Amore  health_fitness    24.84   Brooke   \n",
       "1767    fraud_Rodriguez, Yost and Jenkins        misc_net   780.52  Douglas   \n",
       "1781                     fraud_Nienow PLC   entertainment   620.33  Douglas   \n",
       "1784  fraud_Heathcote, Yost and Kertzmann    shopping_net  1077.69  William   \n",
       "1857               fraud_Hermann and Sons    shopping_pos   842.65   Brooke   \n",
       "\n",
       "        last gender                        street  ...      lat      long  \\\n",
       "1685   Smith      F     63542 Luna Brook Apt. 012  ...  31.8599 -102.7413   \n",
       "1767  Willis      M    619 Jeremy Garden Apt. 681  ...  42.5545  -90.3508   \n",
       "1781  Willis      M    619 Jeremy Garden Apt. 681  ...  42.5545  -90.3508   \n",
       "1784   Perry      M  458 Phillips Island Apt. 768  ...  30.4590  -90.9027   \n",
       "1857   Smith      F     63542 Luna Brook Apt. 012  ...  31.8599 -102.7413   \n",
       "\n",
       "      city_pop                       job         dob  \\\n",
       "1685        23            Cytogeneticist  15/09/1969   \n",
       "1767      1306  Public relations officer  10/09/1958   \n",
       "1781      1306  Public relations officer  10/09/1958   \n",
       "1784     71335                 Herbalist  31/05/1994   \n",
       "1857        23            Cytogeneticist  15/09/1969   \n",
       "\n",
       "                             trans_num   unix_time  merch_lat  merch_long  \\\n",
       "1685  16bf2e46c54369a8eab2214649506425  1371852399  32.575873 -102.604290   \n",
       "1767  ab4b379d2c0c9c667d46508d4e126d72  1371853942  42.461127  -91.147148   \n",
       "1781  47a9987ae81d99f7832a54b29a77bf4b  1371854247  42.771834  -90.158365   \n",
       "1784  fe956c7e4a253c437c18918bf96f7b62  1371854335  31.204974  -90.261595   \n",
       "1857  f6838c01f5d2262006e6b71d33ba7c6d  1371855736  31.315782 -102.736390   \n",
       "\n",
       "      is_fraud  \n",
       "1685         1  \n",
       "1767         1  \n",
       "1781         1  \n",
       "1784         1  \n",
       "1857         1  \n",
       "\n",
       "[5 rows x 23 columns]"
      ]
     },
     "execution_count": 9,
     "metadata": {},
     "output_type": "execute_result"
    }
   ],
   "source": [
    "# Define variables for data of fraud transactions\n",
    "is_fraud_df = total_data_df.loc[total_data_df[\"is_fraud\"]==1]\n",
    "is_fraud_df.head()"
   ]
  },
  {
   "cell_type": "code",
   "execution_count": 10,
   "metadata": {},
   "outputs": [
    {
     "data": {
      "text/html": [
       "<div>\n",
       "<style scoped>\n",
       "    .dataframe tbody tr th:only-of-type {\n",
       "        vertical-align: middle;\n",
       "    }\n",
       "\n",
       "    .dataframe tbody tr th {\n",
       "        vertical-align: top;\n",
       "    }\n",
       "\n",
       "    .dataframe thead th {\n",
       "        text-align: right;\n",
       "    }\n",
       "</style>\n",
       "<table border=\"1\" class=\"dataframe\">\n",
       "  <thead>\n",
       "    <tr style=\"text-align: right;\">\n",
       "      <th></th>\n",
       "      <th>amt</th>\n",
       "    </tr>\n",
       "  </thead>\n",
       "  <tbody>\n",
       "    <tr>\n",
       "      <th>1685</th>\n",
       "      <td>24.84</td>\n",
       "    </tr>\n",
       "    <tr>\n",
       "      <th>1767</th>\n",
       "      <td>780.52</td>\n",
       "    </tr>\n",
       "    <tr>\n",
       "      <th>1781</th>\n",
       "      <td>620.33</td>\n",
       "    </tr>\n",
       "    <tr>\n",
       "      <th>1784</th>\n",
       "      <td>1077.69</td>\n",
       "    </tr>\n",
       "    <tr>\n",
       "      <th>1857</th>\n",
       "      <td>842.65</td>\n",
       "    </tr>\n",
       "  </tbody>\n",
       "</table>\n",
       "</div>"
      ],
      "text/plain": [
       "          amt\n",
       "1685    24.84\n",
       "1767   780.52\n",
       "1781   620.33\n",
       "1784  1077.69\n",
       "1857   842.65"
      ]
     },
     "execution_count": 10,
     "metadata": {},
     "output_type": "execute_result"
    }
   ],
   "source": [
    "# Extract required columns\n",
    "reduced_column_df = is_fraud_df[[\"amt\"]]\n",
    "reduced_column_df.head()"
   ]
  },
  {
   "cell_type": "code",
   "execution_count": 11,
   "metadata": {},
   "outputs": [
    {
     "data": {
      "text/html": [
       "<div>\n",
       "<style scoped>\n",
       "    .dataframe tbody tr th:only-of-type {\n",
       "        vertical-align: middle;\n",
       "    }\n",
       "\n",
       "    .dataframe tbody tr th {\n",
       "        vertical-align: top;\n",
       "    }\n",
       "\n",
       "    .dataframe thead th {\n",
       "        text-align: right;\n",
       "    }\n",
       "</style>\n",
       "<table border=\"1\" class=\"dataframe\">\n",
       "  <thead>\n",
       "    <tr style=\"text-align: right;\">\n",
       "      <th></th>\n",
       "      <th>amt</th>\n",
       "    </tr>\n",
       "  </thead>\n",
       "  <tbody>\n",
       "    <tr>\n",
       "      <th>0</th>\n",
       "      <td>24.84</td>\n",
       "    </tr>\n",
       "    <tr>\n",
       "      <th>1</th>\n",
       "      <td>780.52</td>\n",
       "    </tr>\n",
       "    <tr>\n",
       "      <th>2</th>\n",
       "      <td>620.33</td>\n",
       "    </tr>\n",
       "    <tr>\n",
       "      <th>3</th>\n",
       "      <td>1077.69</td>\n",
       "    </tr>\n",
       "    <tr>\n",
       "      <th>4</th>\n",
       "      <td>842.65</td>\n",
       "    </tr>\n",
       "  </tbody>\n",
       "</table>\n",
       "</div>"
      ],
      "text/plain": [
       "       amt\n",
       "0    24.84\n",
       "1   780.52\n",
       "2   620.33\n",
       "3  1077.69\n",
       "4   842.65"
      ]
     },
     "execution_count": 11,
     "metadata": {},
     "output_type": "execute_result"
    }
   ],
   "source": [
    "# Reset the index \n",
    "clean_fraud_df = reduced_column_df.reset_index(drop=True)\n",
    "clean_fraud_df.head()"
   ]
  },
  {
   "cell_type": "code",
   "execution_count": 12,
   "metadata": {},
   "outputs": [],
   "source": [
    "# Establish the bins for data set of fraud transactions\n",
    "\n",
    "bin_edges= [0, 50, 100, 200, 300, 400, 500, 600, 700, 800, 900, 1000, 1500]\n",
    "labels = [\"<50\", \"50-100\",\"100-200\", \"200-300\", \"300-400\", \"400-500\", \"500-600\", \"600-700\", \"700-800\", \"800-900\", \"900-1000\", \"1000-1500\"]\n",
    "# Slice the data and place it into bins\n",
    "clean_fraud_df['bin'] = pd.cut(clean_fraud_df[\"amt\"], bins, labels=labels,right=False)\n",
    "\n"
   ]
  },
  {
   "cell_type": "code",
   "execution_count": 13,
   "metadata": {},
   "outputs": [
    {
     "data": {
      "text/html": [
       "<div>\n",
       "<style scoped>\n",
       "    .dataframe tbody tr th:only-of-type {\n",
       "        vertical-align: middle;\n",
       "    }\n",
       "\n",
       "    .dataframe tbody tr th {\n",
       "        vertical-align: top;\n",
       "    }\n",
       "\n",
       "    .dataframe thead th {\n",
       "        text-align: right;\n",
       "    }\n",
       "</style>\n",
       "<table border=\"1\" class=\"dataframe\">\n",
       "  <thead>\n",
       "    <tr style=\"text-align: right;\">\n",
       "      <th></th>\n",
       "      <th>amt</th>\n",
       "      <th>bin</th>\n",
       "    </tr>\n",
       "  </thead>\n",
       "  <tbody>\n",
       "    <tr>\n",
       "      <th>0</th>\n",
       "      <td>24.84</td>\n",
       "      <td>&lt;50</td>\n",
       "    </tr>\n",
       "    <tr>\n",
       "      <th>1</th>\n",
       "      <td>780.52</td>\n",
       "      <td>700-800</td>\n",
       "    </tr>\n",
       "    <tr>\n",
       "      <th>2</th>\n",
       "      <td>620.33</td>\n",
       "      <td>600-700</td>\n",
       "    </tr>\n",
       "    <tr>\n",
       "      <th>3</th>\n",
       "      <td>1077.69</td>\n",
       "      <td>1000-1500</td>\n",
       "    </tr>\n",
       "    <tr>\n",
       "      <th>4</th>\n",
       "      <td>842.65</td>\n",
       "      <td>800-900</td>\n",
       "    </tr>\n",
       "  </tbody>\n",
       "</table>\n",
       "</div>"
      ],
      "text/plain": [
       "       amt        bin\n",
       "0    24.84        <50\n",
       "1   780.52    700-800\n",
       "2   620.33    600-700\n",
       "3  1077.69  1000-1500\n",
       "4   842.65    800-900"
      ]
     },
     "execution_count": 13,
     "metadata": {},
     "output_type": "execute_result"
    }
   ],
   "source": [
    "clean_fraud_df.head()"
   ]
  },
  {
   "cell_type": "code",
   "execution_count": 13,
   "metadata": {},
   "outputs": [
    {
     "data": {
      "text/html": [
       "<div>\n",
       "<style scoped>\n",
       "    .dataframe tbody tr th:only-of-type {\n",
       "        vertical-align: middle;\n",
       "    }\n",
       "\n",
       "    .dataframe tbody tr th {\n",
       "        vertical-align: top;\n",
       "    }\n",
       "\n",
       "    .dataframe thead th {\n",
       "        text-align: right;\n",
       "    }\n",
       "</style>\n",
       "<table border=\"1\" class=\"dataframe\">\n",
       "  <thead>\n",
       "    <tr style=\"text-align: right;\">\n",
       "      <th></th>\n",
       "      <th>amt</th>\n",
       "      <th>amt_group</th>\n",
       "    </tr>\n",
       "  </thead>\n",
       "  <tbody>\n",
       "    <tr>\n",
       "      <th>0</th>\n",
       "      <td>24.84</td>\n",
       "      <td>A(&lt;50)</td>\n",
       "    </tr>\n",
       "    <tr>\n",
       "      <th>1</th>\n",
       "      <td>780.52</td>\n",
       "      <td>I(700-800)</td>\n",
       "    </tr>\n",
       "    <tr>\n",
       "      <th>2</th>\n",
       "      <td>620.33</td>\n",
       "      <td>H(600-700)</td>\n",
       "    </tr>\n",
       "    <tr>\n",
       "      <th>3</th>\n",
       "      <td>1077.69</td>\n",
       "      <td>L(1000-1500)</td>\n",
       "    </tr>\n",
       "    <tr>\n",
       "      <th>4</th>\n",
       "      <td>842.65</td>\n",
       "      <td>J(800-900)</td>\n",
       "    </tr>\n",
       "  </tbody>\n",
       "</table>\n",
       "</div>"
      ],
      "text/plain": [
       "       amt     amt_group\n",
       "0    24.84        A(<50)\n",
       "1   780.52    I(700-800)\n",
       "2   620.33    H(600-700)\n",
       "3  1077.69  L(1000-1500)\n",
       "4   842.65    J(800-900)"
      ]
     },
     "execution_count": 13,
     "metadata": {},
     "output_type": "execute_result"
    }
   ],
   "source": [
    "# Place the data series into a new column inside of the DataFrame\n",
    "#clean_fraud_df[\"amt_group\"] = pd.cut(clean_fraud_df[\"amt\"], bins, labels=labels,right=False)\n",
    "#clean_fraud_df.head()"
   ]
  },
  {
   "cell_type": "code",
   "execution_count": 28,
   "metadata": {},
   "outputs": [
    {
     "data": {
      "text/html": [
       "<div>\n",
       "<style scoped>\n",
       "    .dataframe tbody tr th:only-of-type {\n",
       "        vertical-align: middle;\n",
       "    }\n",
       "\n",
       "    .dataframe tbody tr th {\n",
       "        vertical-align: top;\n",
       "    }\n",
       "\n",
       "    .dataframe thead th {\n",
       "        text-align: right;\n",
       "    }\n",
       "</style>\n",
       "<table border=\"1\" class=\"dataframe\">\n",
       "  <thead>\n",
       "    <tr style=\"text-align: right;\">\n",
       "      <th></th>\n",
       "      <th>amt</th>\n",
       "      <th>bin</th>\n",
       "    </tr>\n",
       "  </thead>\n",
       "  <tbody>\n",
       "    <tr>\n",
       "      <th>0</th>\n",
       "      <td>24.84</td>\n",
       "      <td>&lt;50</td>\n",
       "    </tr>\n",
       "    <tr>\n",
       "      <th>5</th>\n",
       "      <td>22.55</td>\n",
       "      <td>&lt;50</td>\n",
       "    </tr>\n",
       "    <tr>\n",
       "      <th>11</th>\n",
       "      <td>8.39</td>\n",
       "      <td>&lt;50</td>\n",
       "    </tr>\n",
       "    <tr>\n",
       "      <th>15</th>\n",
       "      <td>13.25</td>\n",
       "      <td>&lt;50</td>\n",
       "    </tr>\n",
       "    <tr>\n",
       "      <th>19</th>\n",
       "      <td>21.92</td>\n",
       "      <td>&lt;50</td>\n",
       "    </tr>\n",
       "    <tr>\n",
       "      <th>...</th>\n",
       "      <td>...</td>\n",
       "      <td>...</td>\n",
       "    </tr>\n",
       "    <tr>\n",
       "      <th>2103</th>\n",
       "      <td>7.76</td>\n",
       "      <td>&lt;50</td>\n",
       "    </tr>\n",
       "    <tr>\n",
       "      <th>2125</th>\n",
       "      <td>23.92</td>\n",
       "      <td>&lt;50</td>\n",
       "    </tr>\n",
       "    <tr>\n",
       "      <th>2126</th>\n",
       "      <td>19.27</td>\n",
       "      <td>&lt;50</td>\n",
       "    </tr>\n",
       "    <tr>\n",
       "      <th>2132</th>\n",
       "      <td>11.79</td>\n",
       "      <td>&lt;50</td>\n",
       "    </tr>\n",
       "    <tr>\n",
       "      <th>2138</th>\n",
       "      <td>6.60</td>\n",
       "      <td>&lt;50</td>\n",
       "    </tr>\n",
       "  </tbody>\n",
       "</table>\n",
       "<p>462 rows × 2 columns</p>\n",
       "</div>"
      ],
      "text/plain": [
       "        amt  bin\n",
       "0     24.84  <50\n",
       "5     22.55  <50\n",
       "11     8.39  <50\n",
       "15    13.25  <50\n",
       "19    21.92  <50\n",
       "...     ...  ...\n",
       "2103   7.76  <50\n",
       "2125  23.92  <50\n",
       "2126  19.27  <50\n",
       "2132  11.79  <50\n",
       "2138   6.60  <50\n",
       "\n",
       "[462 rows x 2 columns]"
      ]
     },
     "execution_count": 28,
     "metadata": {},
     "output_type": "execute_result"
    }
   ],
   "source": [
    "group0=clean_fraud_df[clean_fraud_df['bin']=='<50']\n",
    "group0"
   ]
  },
  {
   "cell_type": "code",
   "execution_count": null,
   "metadata": {},
   "outputs": [],
   "source": [
    "group1="
   ]
  },
  {
   "cell_type": "code",
   "execution_count": 15,
   "metadata": {},
   "outputs": [],
   "source": [
    "# Create a GroupBy object based upon \"Amount Group\"\n",
    "# Check how many rows in each bin\n",
    "group_fraud_df = clean_fraud_df.groupby(\"bin\").count()"
   ]
  },
  {
   "cell_type": "code",
   "execution_count": 16,
   "metadata": {},
   "outputs": [
    {
     "data": {
      "text/html": [
       "<div>\n",
       "<style scoped>\n",
       "    .dataframe tbody tr th:only-of-type {\n",
       "        vertical-align: middle;\n",
       "    }\n",
       "\n",
       "    .dataframe tbody tr th {\n",
       "        vertical-align: top;\n",
       "    }\n",
       "\n",
       "    .dataframe thead th {\n",
       "        text-align: right;\n",
       "    }\n",
       "</style>\n",
       "<table border=\"1\" class=\"dataframe\">\n",
       "  <thead>\n",
       "    <tr style=\"text-align: right;\">\n",
       "      <th></th>\n",
       "      <th>amt</th>\n",
       "    </tr>\n",
       "    <tr>\n",
       "      <th>bin</th>\n",
       "      <th></th>\n",
       "    </tr>\n",
       "  </thead>\n",
       "  <tbody>\n",
       "    <tr>\n",
       "      <th>&lt;50</th>\n",
       "      <td>462</td>\n",
       "    </tr>\n",
       "    <tr>\n",
       "      <th>50-100</th>\n",
       "      <td>18</td>\n",
       "    </tr>\n",
       "    <tr>\n",
       "      <th>100-200</th>\n",
       "      <td>54</td>\n",
       "    </tr>\n",
       "    <tr>\n",
       "      <th>200-300</th>\n",
       "      <td>212</td>\n",
       "    </tr>\n",
       "    <tr>\n",
       "      <th>300-400</th>\n",
       "      <td>340</td>\n",
       "    </tr>\n",
       "  </tbody>\n",
       "</table>\n",
       "</div>"
      ],
      "text/plain": [
       "         amt\n",
       "bin         \n",
       "<50      462\n",
       "50-100    18\n",
       "100-200   54\n",
       "200-300  212\n",
       "300-400  340"
      ]
     },
     "execution_count": 16,
     "metadata": {},
     "output_type": "execute_result"
    }
   ],
   "source": [
    "group_fraud_df.head()"
   ]
  },
  {
   "cell_type": "code",
   "execution_count": 17,
   "metadata": {},
   "outputs": [
    {
     "data": {
      "text/html": [
       "<div>\n",
       "<style scoped>\n",
       "    .dataframe tbody tr th:only-of-type {\n",
       "        vertical-align: middle;\n",
       "    }\n",
       "\n",
       "    .dataframe tbody tr th {\n",
       "        vertical-align: top;\n",
       "    }\n",
       "\n",
       "    .dataframe thead th {\n",
       "        text-align: right;\n",
       "    }\n",
       "</style>\n",
       "<table border=\"1\" class=\"dataframe\">\n",
       "  <thead>\n",
       "    <tr style=\"text-align: right;\">\n",
       "      <th></th>\n",
       "      <th>count</th>\n",
       "    </tr>\n",
       "    <tr>\n",
       "      <th>bin</th>\n",
       "      <th></th>\n",
       "    </tr>\n",
       "  </thead>\n",
       "  <tbody>\n",
       "    <tr>\n",
       "      <th>&lt;50</th>\n",
       "      <td>462</td>\n",
       "    </tr>\n",
       "    <tr>\n",
       "      <th>50-100</th>\n",
       "      <td>18</td>\n",
       "    </tr>\n",
       "    <tr>\n",
       "      <th>100-200</th>\n",
       "      <td>54</td>\n",
       "    </tr>\n",
       "    <tr>\n",
       "      <th>200-300</th>\n",
       "      <td>212</td>\n",
       "    </tr>\n",
       "    <tr>\n",
       "      <th>300-400</th>\n",
       "      <td>340</td>\n",
       "    </tr>\n",
       "    <tr>\n",
       "      <th>400-500</th>\n",
       "      <td>23</td>\n",
       "    </tr>\n",
       "    <tr>\n",
       "      <th>500-600</th>\n",
       "      <td>31</td>\n",
       "    </tr>\n",
       "    <tr>\n",
       "      <th>600-700</th>\n",
       "      <td>47</td>\n",
       "    </tr>\n",
       "    <tr>\n",
       "      <th>700-800</th>\n",
       "      <td>165</td>\n",
       "    </tr>\n",
       "    <tr>\n",
       "      <th>800-900</th>\n",
       "      <td>242</td>\n",
       "    </tr>\n",
       "    <tr>\n",
       "      <th>900-1000</th>\n",
       "      <td>275</td>\n",
       "    </tr>\n",
       "    <tr>\n",
       "      <th>1000-1500</th>\n",
       "      <td>276</td>\n",
       "    </tr>\n",
       "  </tbody>\n",
       "</table>\n",
       "</div>"
      ],
      "text/plain": [
       "           count\n",
       "bin             \n",
       "<50          462\n",
       "50-100        18\n",
       "100-200       54\n",
       "200-300      212\n",
       "300-400      340\n",
       "400-500       23\n",
       "500-600       31\n",
       "600-700       47\n",
       "700-800      165\n",
       "800-900      242\n",
       "900-1000     275\n",
       "1000-1500    276"
      ]
     },
     "execution_count": 17,
     "metadata": {},
     "output_type": "execute_result"
    }
   ],
   "source": [
    "# Rename the column of count\n",
    "group_fraud_df = group_fraud_df.rename(columns = {'amt':'count'})\n",
    "group_fraud_df"
   ]
  },
  {
   "cell_type": "code",
   "execution_count": 18,
   "metadata": {},
   "outputs": [
    {
     "data": {
      "text/html": [
       "<div>\n",
       "<style scoped>\n",
       "    .dataframe tbody tr th:only-of-type {\n",
       "        vertical-align: middle;\n",
       "    }\n",
       "\n",
       "    .dataframe tbody tr th {\n",
       "        vertical-align: top;\n",
       "    }\n",
       "\n",
       "    .dataframe thead th {\n",
       "        text-align: right;\n",
       "    }\n",
       "</style>\n",
       "<table border=\"1\" class=\"dataframe\">\n",
       "  <thead>\n",
       "    <tr style=\"text-align: right;\">\n",
       "      <th></th>\n",
       "      <th>count</th>\n",
       "      <th>percentage</th>\n",
       "    </tr>\n",
       "    <tr>\n",
       "      <th>bin</th>\n",
       "      <th></th>\n",
       "      <th></th>\n",
       "    </tr>\n",
       "  </thead>\n",
       "  <tbody>\n",
       "    <tr>\n",
       "      <th>&lt;50</th>\n",
       "      <td>462</td>\n",
       "      <td>21.538462</td>\n",
       "    </tr>\n",
       "    <tr>\n",
       "      <th>50-100</th>\n",
       "      <td>18</td>\n",
       "      <td>0.839161</td>\n",
       "    </tr>\n",
       "    <tr>\n",
       "      <th>100-200</th>\n",
       "      <td>54</td>\n",
       "      <td>2.517483</td>\n",
       "    </tr>\n",
       "    <tr>\n",
       "      <th>200-300</th>\n",
       "      <td>212</td>\n",
       "      <td>9.883450</td>\n",
       "    </tr>\n",
       "    <tr>\n",
       "      <th>300-400</th>\n",
       "      <td>340</td>\n",
       "      <td>15.850816</td>\n",
       "    </tr>\n",
       "    <tr>\n",
       "      <th>400-500</th>\n",
       "      <td>23</td>\n",
       "      <td>1.072261</td>\n",
       "    </tr>\n",
       "    <tr>\n",
       "      <th>500-600</th>\n",
       "      <td>31</td>\n",
       "      <td>1.445221</td>\n",
       "    </tr>\n",
       "    <tr>\n",
       "      <th>600-700</th>\n",
       "      <td>47</td>\n",
       "      <td>2.191142</td>\n",
       "    </tr>\n",
       "    <tr>\n",
       "      <th>700-800</th>\n",
       "      <td>165</td>\n",
       "      <td>7.692308</td>\n",
       "    </tr>\n",
       "    <tr>\n",
       "      <th>800-900</th>\n",
       "      <td>242</td>\n",
       "      <td>11.282051</td>\n",
       "    </tr>\n",
       "    <tr>\n",
       "      <th>900-1000</th>\n",
       "      <td>275</td>\n",
       "      <td>12.820513</td>\n",
       "    </tr>\n",
       "    <tr>\n",
       "      <th>1000-1500</th>\n",
       "      <td>276</td>\n",
       "      <td>12.867133</td>\n",
       "    </tr>\n",
       "  </tbody>\n",
       "</table>\n",
       "</div>"
      ],
      "text/plain": [
       "           count  percentage\n",
       "bin                         \n",
       "<50          462   21.538462\n",
       "50-100        18    0.839161\n",
       "100-200       54    2.517483\n",
       "200-300      212    9.883450\n",
       "300-400      340   15.850816\n",
       "400-500       23    1.072261\n",
       "500-600       31    1.445221\n",
       "600-700       47    2.191142\n",
       "700-800      165    7.692308\n",
       "800-900      242   11.282051\n",
       "900-1000     275   12.820513\n",
       "1000-1500    276   12.867133"
      ]
     },
     "execution_count": 18,
     "metadata": {},
     "output_type": "execute_result"
    }
   ],
   "source": [
    "# Count percentage of fraud transactions for each group of amount\n",
    "group_fraud_df['percentage'] = (group_fraud_df['count']/group_fraud_df['count'].sum())*100\n",
    "group_fraud_df"
   ]
  },
  {
   "cell_type": "code",
   "execution_count": 19,
   "metadata": {},
   "outputs": [
    {
     "data": {
      "image/png": "[encoded data removed]",
      "text/plain": [
       "<Figure size 800x400 with 1 Axes>"
      ]
     },
     "metadata": {},
     "output_type": "display_data"
    }
   ],
   "source": [
    "# Plot horizontal bar graph\n",
    "# Set labels for axes\n",
    "percentage = group_fraud_df['percentage']\n",
    "df2 = pd.DataFrame({'percentage(%)': percentage})\n",
    "df2.plot.barh(figsize=(8,4))\n",
    "\n",
    "plt.xlabel('Purchase Amount Count Percentage')\n",
    "plt.ylabel('Range')\n",
    "plt.title('Credit Card Fraud Analysis')\n",
    "plt.grid()\n",
    "\n",
    "plt.savefig(\"Fig2.png\")\n",
    "plt.show()"
   ]
  },
  {
   "cell_type": "code",
   "execution_count": 21,
   "metadata": {},
   "outputs": [],
   "source": [
    "# Merge two data frame\n",
    "#combine_df = pd.merge(group_total_df, group_fraud_df, on=\"bin\")\n",
    "#combine_df.head()"
   ]
  },
  {
   "cell_type": "code",
   "execution_count": 22,
   "metadata": {},
   "outputs": [
    {
     "data": {
      "text/html": [
       "<div>\n",
       "<style scoped>\n",
       "    .dataframe tbody tr th:only-of-type {\n",
       "        vertical-align: middle;\n",
       "    }\n",
       "\n",
       "    .dataframe tbody tr th {\n",
       "        vertical-align: top;\n",
       "    }\n",
       "\n",
       "    .dataframe thead th {\n",
       "        text-align: right;\n",
       "    }\n",
       "</style>\n",
       "<table border=\"1\" class=\"dataframe\">\n",
       "  <thead>\n",
       "    <tr style=\"text-align: right;\">\n",
       "      <th></th>\n",
       "      <th>bin</th>\n",
       "      <th>count</th>\n",
       "      <th>percentage</th>\n",
       "    </tr>\n",
       "  </thead>\n",
       "  <tbody>\n",
       "    <tr>\n",
       "      <th>0</th>\n",
       "      <td>&lt;50</td>\n",
       "      <td>462</td>\n",
       "      <td>21.538462</td>\n",
       "    </tr>\n",
       "    <tr>\n",
       "      <th>1</th>\n",
       "      <td>50-100</td>\n",
       "      <td>18</td>\n",
       "      <td>0.839161</td>\n",
       "    </tr>\n",
       "    <tr>\n",
       "      <th>2</th>\n",
       "      <td>100-200</td>\n",
       "      <td>54</td>\n",
       "      <td>2.517483</td>\n",
       "    </tr>\n",
       "    <tr>\n",
       "      <th>3</th>\n",
       "      <td>200-300</td>\n",
       "      <td>212</td>\n",
       "      <td>9.883450</td>\n",
       "    </tr>\n",
       "    <tr>\n",
       "      <th>4</th>\n",
       "      <td>300-400</td>\n",
       "      <td>340</td>\n",
       "      <td>15.850816</td>\n",
       "    </tr>\n",
       "  </tbody>\n",
       "</table>\n",
       "</div>"
      ],
      "text/plain": [
       "       bin  count  percentage\n",
       "0      <50    462   21.538462\n",
       "1   50-100     18    0.839161\n",
       "2  100-200     54    2.517483\n",
       "3  200-300    212    9.883450\n",
       "4  300-400    340   15.850816"
      ]
     },
     "execution_count": 22,
     "metadata": {},
     "output_type": "execute_result"
    }
   ],
   "source": [
    "# Reset index and convert amt_group to a column\n",
    "combine_df = group_fraud_df.reset_index()\n",
    "combine_df.head()"
   ]
  },
  {
   "cell_type": "code",
   "execution_count": null,
   "metadata": {},
   "outputs": [],
   "source": []
  },
  {
   "cell_type": "code",
   "execution_count": 25,
   "metadata": {},
   "outputs": [],
   "source": [
    "# Rename the column \n",
    "#combine_df = combine_df.rename(columns={'amt_group':'AmountGroup',\n",
    "                                        #'count_x':'CountTotal',\n",
    "                                        #'count_y':'CountFraud',\n",
    "                                        #'percentage_x':'PercentageTotal',\n",
    "                                        #'percentage_y':'PercentageFraud'})\n",
    "#combine_df"
   ]
  },
  {
   "cell_type": "markdown",
   "metadata": {},
   "source": [
    "Comparison\n",
    "\n",
    "To find out which group of purchase amount were affected by the fradulent transactions"
   ]
  },
  {
   "cell_type": "code",
   "execution_count": 21,
   "metadata": {},
   "outputs": [
    {
     "data": {
      "image/png": "[encoded data removed]",
      "text/plain": [
       "<Figure size 1500x600 with 1 Axes>"
      ]
     },
     "metadata": {},
     "output_type": "display_data"
    }
   ],
   "source": [
    "df3 = pd.DataFrame(data=combine_df, columns =['AmountGroup', 'PercentageTotal', 'PercentageFraud'])\n",
    "df3.plot(x='AmountGroup', y=['PercentageTotal', 'PercentageFraud'],\n",
    "        kind=\"line\", figsize=(15, 6))\n",
    "plt.title(\"Credit Card Transactions Percentage Total vs. Percentage Fraud\")\n",
    "plt.xlabel('Range')\n",
    "plt.ylabel(\"Purchase Amount Count Percentage %\")\n",
    "plt.xticks(ticks=range(len(df3['AmountGroup'])), labels=df3['AmountGroup'], rotation=45, ha='right')\n",
    "plt.grid()\n",
    "plt.savefig(\"Fig3.png\")\n",
    "plt.show()"
   ]
  },
  {
   "cell_type": "markdown",
   "metadata": {},
   "source": [
    "Comparison conclusion:\n",
    "1. The percentage of purchase amount count of total transactions decreases when the purchase amount increases especially greater than $400\n",
    "2. In contrast to total transactions, the percentage of purchase amount count of fraudulent transactions increases with the the purchase amount increases especially at $300-400 and greater than $700 "
   ]
  },
  {
   "cell_type": "markdown",
   "metadata": {},
   "source": [
    "Correlation and regression \n",
    "1. To test if purchase amount count percentage of total transactions negatively proportionates to the the purchase amount\n",
    "2. To test if purchase amount count percentage of fraudulent transactions positively proportionates to the purchase amount"
   ]
  },
  {
   "cell_type": "markdown",
   "metadata": {},
   "source": [
    "Correlation and regression of total transaction analysis"
   ]
  },
  {
   "cell_type": "code",
   "execution_count": 22,
   "metadata": {},
   "outputs": [
    {
     "data": {
      "text/html": [
       "<div>\n",
       "<style scoped>\n",
       "    .dataframe tbody tr th:only-of-type {\n",
       "        vertical-align: middle;\n",
       "    }\n",
       "\n",
       "    .dataframe tbody tr th {\n",
       "        vertical-align: top;\n",
       "    }\n",
       "\n",
       "    .dataframe thead th {\n",
       "        text-align: right;\n",
       "    }\n",
       "</style>\n",
       "<table border=\"1\" class=\"dataframe\">\n",
       "  <thead>\n",
       "    <tr style=\"text-align: right;\">\n",
       "      <th></th>\n",
       "      <th>PurchaseAmount</th>\n",
       "      <th>AmountGroup</th>\n",
       "      <th>CountTotal</th>\n",
       "      <th>PercentageTotal</th>\n",
       "      <th>CountFraud</th>\n",
       "      <th>PercentageFraud</th>\n",
       "    </tr>\n",
       "  </thead>\n",
       "  <tbody>\n",
       "    <tr>\n",
       "      <th>0</th>\n",
       "      <td>25</td>\n",
       "      <td>A(&lt;50)</td>\n",
       "      <td>288883</td>\n",
       "      <td>52.040489</td>\n",
       "      <td>462</td>\n",
       "      <td>21.538462</td>\n",
       "    </tr>\n",
       "    <tr>\n",
       "      <th>1</th>\n",
       "      <td>75</td>\n",
       "      <td>B(50-100)</td>\n",
       "      <td>166835</td>\n",
       "      <td>30.054295</td>\n",
       "      <td>18</td>\n",
       "      <td>0.839161</td>\n",
       "    </tr>\n",
       "    <tr>\n",
       "      <th>2</th>\n",
       "      <td>150</td>\n",
       "      <td>C(100-200)</td>\n",
       "      <td>74648</td>\n",
       "      <td>13.447376</td>\n",
       "      <td>54</td>\n",
       "      <td>2.517483</td>\n",
       "    </tr>\n",
       "    <tr>\n",
       "      <th>3</th>\n",
       "      <td>250</td>\n",
       "      <td>D(200-300)</td>\n",
       "      <td>13205</td>\n",
       "      <td>2.378799</td>\n",
       "      <td>212</td>\n",
       "      <td>9.883450</td>\n",
       "    </tr>\n",
       "    <tr>\n",
       "      <th>4</th>\n",
       "      <td>350</td>\n",
       "      <td>E(300-400)</td>\n",
       "      <td>3477</td>\n",
       "      <td>0.626360</td>\n",
       "      <td>340</td>\n",
       "      <td>15.850816</td>\n",
       "    </tr>\n",
       "    <tr>\n",
       "      <th>5</th>\n",
       "      <td>450</td>\n",
       "      <td>F(400-500)</td>\n",
       "      <td>2593</td>\n",
       "      <td>0.467113</td>\n",
       "      <td>23</td>\n",
       "      <td>1.072261</td>\n",
       "    </tr>\n",
       "    <tr>\n",
       "      <th>6</th>\n",
       "      <td>550</td>\n",
       "      <td>G(500-600)</td>\n",
       "      <td>1912</td>\n",
       "      <td>0.344435</td>\n",
       "      <td>31</td>\n",
       "      <td>1.445221</td>\n",
       "    </tr>\n",
       "    <tr>\n",
       "      <th>7</th>\n",
       "      <td>650</td>\n",
       "      <td>H(600-700)</td>\n",
       "      <td>842</td>\n",
       "      <td>0.151681</td>\n",
       "      <td>47</td>\n",
       "      <td>2.191142</td>\n",
       "    </tr>\n",
       "    <tr>\n",
       "      <th>8</th>\n",
       "      <td>750</td>\n",
       "      <td>I(700-800)</td>\n",
       "      <td>632</td>\n",
       "      <td>0.113851</td>\n",
       "      <td>165</td>\n",
       "      <td>7.692308</td>\n",
       "    </tr>\n",
       "    <tr>\n",
       "      <th>9</th>\n",
       "      <td>850</td>\n",
       "      <td>J(800-900)</td>\n",
       "      <td>582</td>\n",
       "      <td>0.104844</td>\n",
       "      <td>242</td>\n",
       "      <td>11.282051</td>\n",
       "    </tr>\n",
       "    <tr>\n",
       "      <th>10</th>\n",
       "      <td>950</td>\n",
       "      <td>K(900-1000)</td>\n",
       "      <td>527</td>\n",
       "      <td>0.094936</td>\n",
       "      <td>275</td>\n",
       "      <td>12.820513</td>\n",
       "    </tr>\n",
       "    <tr>\n",
       "      <th>11</th>\n",
       "      <td>1250</td>\n",
       "      <td>L(1000-1500)</td>\n",
       "      <td>976</td>\n",
       "      <td>0.175820</td>\n",
       "      <td>276</td>\n",
       "      <td>12.867133</td>\n",
       "    </tr>\n",
       "  </tbody>\n",
       "</table>\n",
       "</div>"
      ],
      "text/plain": [
       "    PurchaseAmount   AmountGroup  CountTotal  PercentageTotal  CountFraud  \\\n",
       "0               25        A(<50)      288883        52.040489         462   \n",
       "1               75     B(50-100)      166835        30.054295          18   \n",
       "2              150    C(100-200)       74648        13.447376          54   \n",
       "3              250    D(200-300)       13205         2.378799         212   \n",
       "4              350    E(300-400)        3477         0.626360         340   \n",
       "5              450    F(400-500)        2593         0.467113          23   \n",
       "6              550    G(500-600)        1912         0.344435          31   \n",
       "7              650    H(600-700)         842         0.151681          47   \n",
       "8              750    I(700-800)         632         0.113851         165   \n",
       "9              850    J(800-900)         582         0.104844         242   \n",
       "10             950   K(900-1000)         527         0.094936         275   \n",
       "11            1250  L(1000-1500)         976         0.175820         276   \n",
       "\n",
       "    PercentageFraud  \n",
       "0         21.538462  \n",
       "1          0.839161  \n",
       "2          2.517483  \n",
       "3          9.883450  \n",
       "4         15.850816  \n",
       "5          1.072261  \n",
       "6          1.445221  \n",
       "7          2.191142  \n",
       "8          7.692308  \n",
       "9         11.282051  \n",
       "10        12.820513  \n",
       "11        12.867133  "
      ]
     },
     "execution_count": 22,
     "metadata": {},
     "output_type": "execute_result"
    }
   ],
   "source": [
    "# Calculate the correlation coefficient and a linear regression model \n",
    "# for count percentage and the purchase amount in each group. The mean purchase amount of each group will be used for calculation\n",
    "# Calculate slope, intercept, r value, p value and standard error \n",
    "# Plot linear regression equation\n",
    "\n",
    "purchase_amount_df = pd.DataFrame({'PurchaseAmount':[25, 75, 150, 250, 350, 450, 550, 650, 750, 850, 950, 1250]})\n",
    "cor_df = purchase_amount_df.join(combine_df)\n",
    "\n",
    "cor_df"
   ]
  },
  {
   "cell_type": "code",
   "execution_count": 23,
   "metadata": {},
   "outputs": [
    {
     "name": "stdout",
     "output_type": "stream",
     "text": [
      "The correlation between purchase amount and total transaction count percentage is -0.66.\n"
     ]
    }
   ],
   "source": [
    "corr = round(st.pearsonr(cor_df['PurchaseAmount'], cor_df['PercentageTotal'])[0],2)\n",
    "\n",
    "print(f\"The correlation between purchase amount and total transaction count percentage is {corr}.\")\n"
   ]
  },
  {
   "cell_type": "code",
   "execution_count": 24,
   "metadata": {},
   "outputs": [
    {
     "name": "stdout",
     "output_type": "stream",
     "text": [
      "\n",
      "slope:-0.02849640456808119\n",
      "intercept:23.29394573157596\n",
      "r value:-0.6585493642288689\n",
      "p value:0.019878339059720834\n",
      "std error:0.010297454864144127\n",
      "y = -0.03x + 23.29\n"
     ]
    }
   ],
   "source": [
    "(slope, intercept, rvalue, pvalue, stderr) = st.linregress(cor_df['PurchaseAmount'], cor_df['PercentageTotal'])\n",
    "regress_values = cor_df['PurchaseAmount'] * slope + intercept\n",
    "print(\n",
    "    f\"\\nslope:{slope}\"\n",
    "    f\"\\nintercept:{intercept}\"\n",
    "    f\"\\nr value:{rvalue}\"\n",
    "    f\"\\np value:{pvalue}\"\n",
    "    f\"\\nstd error:{stderr}\")\n",
    "\n",
    "line_eq = \"y = \" + str(round(slope,2)) + \"x + \" + str(round(intercept,2))\n",
    "print(line_eq)\n"
   ]
  },
  {
   "cell_type": "code",
   "execution_count": 25,
   "metadata": {},
   "outputs": [
    {
     "data": {
      "image/png": "[encoded data removed]",
      "text/plain": [
       "<Figure size 640x480 with 1 Axes>"
      ]
     },
     "metadata": {},
     "output_type": "display_data"
    }
   ],
   "source": [
    "plt.scatter(cor_df['PurchaseAmount'], cor_df['PercentageTotal'])\n",
    "plt.plot(cor_df['PurchaseAmount'],regress_values,\"y-\")\n",
    "plt.title(\"Linear Regression Model of Purchase Amount vs. Count Percentage of Total Transactions\")\n",
    "plt.xlabel(\"Purchase Amount ($)\")\n",
    "plt.ylabel(\"Transaction Count Percentage (%)\")\n",
    "plt.annotate(line_eq, xy=(0, 35),fontsize=10,color=\"g\")\n",
    "plt.grid()\n",
    "plt.ylim(0, 40)\n",
    "plt.show()"
   ]
  },
  {
   "cell_type": "markdown",
   "metadata": {},
   "source": [
    "Correlation and regression of fraud transaction analysis"
   ]
  },
  {
   "cell_type": "code",
   "execution_count": 26,
   "metadata": {},
   "outputs": [
    {
     "name": "stdout",
     "output_type": "stream",
     "text": [
      "The correlation between purchase amount and fraud transaction count percentage is 0.1.\n"
     ]
    }
   ],
   "source": [
    "corr = round(st.pearsonr(cor_df['PurchaseAmount'], cor_df['PercentageFraud'])[0],2)\n",
    "\n",
    "print(f\"The correlation between purchase amount and fraud transaction count percentage is {corr}.\")"
   ]
  },
  {
   "cell_type": "code",
   "execution_count": 27,
   "metadata": {},
   "outputs": [
    {
     "name": "stdout",
     "output_type": "stream",
     "text": [
      "\n",
      "slope:0.0017816437705940457\n",
      "intercept:7.39797035377146\n",
      "r value:0.09918974778911649\n",
      "p value:0.7590741438466775\n",
      "std error:0.005652064150152492\n",
      "y = 0.0x + 7.4\n"
     ]
    }
   ],
   "source": [
    "(slope, intercept, rvalue, pvalue, stderr) = st.linregress(cor_df['PurchaseAmount'], cor_df['PercentageFraud'])\n",
    "regress_values = cor_df['PurchaseAmount'] * slope + intercept\n",
    "print(\n",
    "    f\"\\nslope:{slope}\"\n",
    "    f\"\\nintercept:{intercept}\"\n",
    "    f\"\\nr value:{rvalue}\"\n",
    "    f\"\\np value:{pvalue}\"\n",
    "    f\"\\nstd error:{stderr}\")\n",
    "\n",
    "line_eq = \"y = \" + str(round(slope,2)) + \"x + \" + str(round(intercept,2))\n",
    "print(line_eq)\n"
   ]
  },
  {
   "cell_type": "code",
   "execution_count": 28,
   "metadata": {},
   "outputs": [
    {
     "data": {
      "image/png": "[encoded data removed]",
      "text/plain": [
       "<Figure size 640x480 with 1 Axes>"
      ]
     },
     "metadata": {},
     "output_type": "display_data"
    }
   ],
   "source": [
    "plt.scatter(cor_df['PurchaseAmount'], cor_df['PercentageFraud'])\n",
    "plt.plot(cor_df['PurchaseAmount'],regress_values,\"y-\")\n",
    "plt.title(\"Linear Regression Model of Purchase Amount vs. Count Percentage of Fraud Transactions\")\n",
    "plt.xlabel(\"Purchase Amount ($)\")\n",
    "plt.ylabel(\"Fraud Transaction Count Percentage (%)\")\n",
    "plt.annotate(line_eq, xy=(0, 25),fontsize=10,color=\"g\")\n",
    "plt.grid()\n",
    "plt.ylim(0, 30)\n",
    "plt.show()"
   ]
  },
  {
   "cell_type": "markdown",
   "metadata": {},
   "source": [
    "Conclusion of correlation analysis:\n",
    "The r-square < 0.7 for both total transaction analysis and fraud transaction analysis. Therefore, no correlation between transaction count percentage and purchase amount can be declared. "
   ]
  },
  {
   "cell_type": "markdown",
   "metadata": {},
   "source": [
    "# Statistical analysis and data visualization"
   ]
  },
  {
   "cell_type": "code",
   "execution_count": 29,
   "metadata": {},
   "outputs": [],
   "source": [
    "# Null hypothesis (H0): No significant count difference of purchase amount among each group\n",
    "# Alternative hypothesis (Ha): Opposite to Null hypothesis"
   ]
  },
  {
   "cell_type": "markdown",
   "metadata": {},
   "source": [
    "One Sample T - Tests\n",
    "\n",
    "To compare the mean of sample to the mean of population"
   ]
  },
  {
   "cell_type": "code",
   "execution_count": 30,
   "metadata": {},
   "outputs": [
    {
     "data": {
      "text/plain": [
       "amt_group\n",
       "A(<50)          462.0\n",
       "B(50-100)        18.0\n",
       "C(100-200)       54.0\n",
       "D(200-300)      212.0\n",
       "E(300-400)      340.0\n",
       "F(400-500)       23.0\n",
       "G(500-600)       31.0\n",
       "H(600-700)       47.0\n",
       "I(700-800)      165.0\n",
       "J(800-900)      242.0\n",
       "K(900-1000)     275.0\n",
       "L(1000-1500)    276.0\n",
       "Name: count, dtype: float64"
      ]
     },
     "execution_count": 30,
     "metadata": {},
     "output_type": "execute_result"
    }
   ],
   "source": [
    "# Define sample based on the fraud dataset\n",
    "sample = group_fraud_df['count'].groupby(by=['amt_group']).mean()\n",
    "sample "
   ]
  },
  {
   "cell_type": "code",
   "execution_count": 31,
   "metadata": {},
   "outputs": [
    {
     "data": {
      "text/plain": [
       "46259.333333333336"
      ]
     },
     "execution_count": 31,
     "metadata": {},
     "output_type": "execute_result"
    }
   ],
   "source": [
    "# Display mean of count for each group of total dataset\n",
    "population_mean = group_total_df['count'].mean()\n",
    "population_mean"
   ]
  },
  {
   "cell_type": "code",
   "execution_count": 32,
   "metadata": {},
   "outputs": [
    {
     "data": {
      "text/plain": [
       "TtestResult(statistic=-1091.8933866837508, pvalue=4.7757731280193844e-29, df=11)"
      ]
     },
     "execution_count": 32,
     "metadata": {},
     "output_type": "execute_result"
    }
   ],
   "source": [
    "stats.ttest_1samp(sample,population_mean)"
   ]
  },
  {
   "cell_type": "markdown",
   "metadata": {},
   "source": [
    "T test conclusion:\n",
    "The p value is 4.78*e-29 <0.05 indicating significant difference between purchase amount count of fraudulent transactions and total transactions. Therefore, the null hypothesis is rejected and alternative hypothesis is accepted. "
   ]
  },
  {
   "cell_type": "markdown",
   "metadata": {},
   "source": [
    "ANOVA Test"
   ]
  },
  {
   "cell_type": "code",
   "execution_count": 33,
   "metadata": {},
   "outputs": [
    {
     "data": {
      "text/html": [
       "<div>\n",
       "<style scoped>\n",
       "    .dataframe tbody tr th:only-of-type {\n",
       "        vertical-align: middle;\n",
       "    }\n",
       "\n",
       "    .dataframe tbody tr th {\n",
       "        vertical-align: top;\n",
       "    }\n",
       "\n",
       "    .dataframe thead th {\n",
       "        text-align: right;\n",
       "    }\n",
       "</style>\n",
       "<table border=\"1\" class=\"dataframe\">\n",
       "  <thead>\n",
       "    <tr style=\"text-align: right;\">\n",
       "      <th></th>\n",
       "      <th>AmountGroup</th>\n",
       "      <th>CountTotal</th>\n",
       "      <th>PercentageTotal</th>\n",
       "      <th>CountFraud</th>\n",
       "      <th>PercentageFraud</th>\n",
       "    </tr>\n",
       "  </thead>\n",
       "  <tbody>\n",
       "    <tr>\n",
       "      <th>0</th>\n",
       "      <td>A(&lt;50)</td>\n",
       "      <td>288883</td>\n",
       "      <td>52.040489</td>\n",
       "      <td>462</td>\n",
       "      <td>21.538462</td>\n",
       "    </tr>\n",
       "    <tr>\n",
       "      <th>1</th>\n",
       "      <td>B(50-100)</td>\n",
       "      <td>166835</td>\n",
       "      <td>30.054295</td>\n",
       "      <td>18</td>\n",
       "      <td>0.839161</td>\n",
       "    </tr>\n",
       "    <tr>\n",
       "      <th>2</th>\n",
       "      <td>C(100-200)</td>\n",
       "      <td>74648</td>\n",
       "      <td>13.447376</td>\n",
       "      <td>54</td>\n",
       "      <td>2.517483</td>\n",
       "    </tr>\n",
       "    <tr>\n",
       "      <th>3</th>\n",
       "      <td>D(200-300)</td>\n",
       "      <td>13205</td>\n",
       "      <td>2.378799</td>\n",
       "      <td>212</td>\n",
       "      <td>9.883450</td>\n",
       "    </tr>\n",
       "    <tr>\n",
       "      <th>4</th>\n",
       "      <td>E(300-400)</td>\n",
       "      <td>3477</td>\n",
       "      <td>0.626360</td>\n",
       "      <td>340</td>\n",
       "      <td>15.850816</td>\n",
       "    </tr>\n",
       "    <tr>\n",
       "      <th>5</th>\n",
       "      <td>F(400-500)</td>\n",
       "      <td>2593</td>\n",
       "      <td>0.467113</td>\n",
       "      <td>23</td>\n",
       "      <td>1.072261</td>\n",
       "    </tr>\n",
       "    <tr>\n",
       "      <th>6</th>\n",
       "      <td>G(500-600)</td>\n",
       "      <td>1912</td>\n",
       "      <td>0.344435</td>\n",
       "      <td>31</td>\n",
       "      <td>1.445221</td>\n",
       "    </tr>\n",
       "    <tr>\n",
       "      <th>7</th>\n",
       "      <td>H(600-700)</td>\n",
       "      <td>842</td>\n",
       "      <td>0.151681</td>\n",
       "      <td>47</td>\n",
       "      <td>2.191142</td>\n",
       "    </tr>\n",
       "    <tr>\n",
       "      <th>8</th>\n",
       "      <td>I(700-800)</td>\n",
       "      <td>632</td>\n",
       "      <td>0.113851</td>\n",
       "      <td>165</td>\n",
       "      <td>7.692308</td>\n",
       "    </tr>\n",
       "    <tr>\n",
       "      <th>9</th>\n",
       "      <td>J(800-900)</td>\n",
       "      <td>582</td>\n",
       "      <td>0.104844</td>\n",
       "      <td>242</td>\n",
       "      <td>11.282051</td>\n",
       "    </tr>\n",
       "    <tr>\n",
       "      <th>10</th>\n",
       "      <td>K(900-1000)</td>\n",
       "      <td>527</td>\n",
       "      <td>0.094936</td>\n",
       "      <td>275</td>\n",
       "      <td>12.820513</td>\n",
       "    </tr>\n",
       "    <tr>\n",
       "      <th>11</th>\n",
       "      <td>L(1000-1500)</td>\n",
       "      <td>976</td>\n",
       "      <td>0.175820</td>\n",
       "      <td>276</td>\n",
       "      <td>12.867133</td>\n",
       "    </tr>\n",
       "  </tbody>\n",
       "</table>\n",
       "</div>"
      ],
      "text/plain": [
       "     AmountGroup  CountTotal  PercentageTotal  CountFraud  PercentageFraud\n",
       "0         A(<50)      288883        52.040489         462        21.538462\n",
       "1      B(50-100)      166835        30.054295          18         0.839161\n",
       "2     C(100-200)       74648        13.447376          54         2.517483\n",
       "3     D(200-300)       13205         2.378799         212         9.883450\n",
       "4     E(300-400)        3477         0.626360         340        15.850816\n",
       "5     F(400-500)        2593         0.467113          23         1.072261\n",
       "6     G(500-600)        1912         0.344435          31         1.445221\n",
       "7     H(600-700)         842         0.151681          47         2.191142\n",
       "8     I(700-800)         632         0.113851         165         7.692308\n",
       "9     J(800-900)         582         0.104844         242        11.282051\n",
       "10   K(900-1000)         527         0.094936         275        12.820513\n",
       "11  L(1000-1500)         976         0.175820         276        12.867133"
      ]
     },
     "execution_count": 33,
     "metadata": {},
     "output_type": "execute_result"
    }
   ],
   "source": [
    "# Display combined data frame\n",
    "combine_df"
   ]
  },
  {
   "cell_type": "code",
   "execution_count": 40,
   "metadata": {},
   "outputs": [],
   "source": [
    "group0=combine_df['PercentageFraud']\n",
    "group1=combine_df['PercentageTotal']\n",
    "group2=combine_df[]"
   ]
  },
  {
   "cell_type": "code",
   "execution_count": 43,
   "metadata": {},
   "outputs": [],
   "source": [
    "statistic, p_value=stats.f_oneway(group0,group1)"
   ]
  },
  {
   "cell_type": "code",
   "execution_count": 42,
   "metadata": {},
   "outputs": [
    {
     "data": {
      "text/plain": [
       "(-1.3312515657003213e-32, nan)"
      ]
     },
     "execution_count": 42,
     "metadata": {},
     "output_type": "execute_result"
    }
   ],
   "source": [
    "statistic, p_value"
   ]
  },
  {
   "cell_type": "code",
   "execution_count": 44,
   "metadata": {},
   "outputs": [],
   "source": [
    "# Extract individual groups\n",
    "group0 = combine_df[combine_df[\"PercentageTotal\"]==0][\"PercentageFraud\"]\n",
    "group1 = combine_df[combine_df[\"PercentageTotal\"]==1][\"PercentageFraud\"]\n",
    "group2 = combine_df[combine_df[\"PercentageTotal\"]==2][\"PercentageFraud\"]\n",
    "group3 = combine_df[combine_df[\"PercentageTotal\"]==3][\"PercentageFraud\"]\n",
    "group4 = combine_df[combine_df[\"PercentageTotal\"]==4][\"PercentageFraud\"]\n",
    "group5 = combine_df[combine_df[\"PercentageTotal\"]==5][\"PercentageFraud\"]\n",
    "group6 = combine_df[combine_df[\"PercentageTotal\"]==6][\"PercentageFraud\"]\n",
    "group7 = combine_df[combine_df[\"PercentageTotal\"]==7][\"PercentageFraud\"]\n",
    "group8 = combine_df[combine_df[\"PercentageTotal\"]==8][\"PercentageFraud\"]\n",
    "group9 = combine_df[combine_df[\"PercentageTotal\"]==9][\"PercentageFraud\"]\n",
    "group10 = combine_df[combine_df[\"PercentageTotal\"]==10][\"PercentageFraud\"]\n",
    "group11 = combine_df[combine_df[\"PercentageTotal\"]==11][\"PercentageFraud\"]"
   ]
  },
  {
   "cell_type": "code",
   "execution_count": 45,
   "metadata": {},
   "outputs": [
    {
     "data": {
      "text/plain": [
       "Series([], Name: PercentageFraud, dtype: float64)"
      ]
     },
     "execution_count": 45,
     "metadata": {},
     "output_type": "execute_result"
    }
   ],
   "source": [
    "group7"
   ]
  },
  {
   "cell_type": "code",
   "execution_count": 35,
   "metadata": {},
   "outputs": [
    {
     "data": {
      "text/plain": [
       "F_onewayResult(statistic=nan, pvalue=nan)"
      ]
     },
     "execution_count": 35,
     "metadata": {},
     "output_type": "execute_result"
    }
   ],
   "source": [
    "stats.f_oneway(group0, group1, group2, group3, group4, group5, group6, group7, group8, group9, group10, group11)"
   ]
  },
  {
   "cell_type": "code",
   "execution_count": 36,
   "metadata": {},
   "outputs": [
    {
     "data": {
      "text/plain": [
       "F_onewayResult(statistic=nan, pvalue=nan)"
      ]
     },
     "execution_count": 36,
     "metadata": {},
     "output_type": "execute_result"
    }
   ],
   "source": [
    "# Perform the ANOVA\n",
    "stats.f_oneway(group0, group1, group2, group3, group4, group5, group6, group7, group8, group9, group10, group11)"
   ]
  },
  {
   "cell_type": "code",
   "execution_count": 37,
   "metadata": {},
   "outputs": [
    {
     "data": {
      "text/plain": [
       "<Axes: title={'center': 'PercentageFraud'}, xlabel='PercentageTotal'>"
      ]
     },
     "execution_count": 37,
     "metadata": {},
     "output_type": "execute_result"
    },
    {
     "data": {
      "image/png": "[encoded data removed]",
      "text/plain": [
       "<Figure size 2600x1000 with 1 Axes>"
      ]
     },
     "metadata": {},
     "output_type": "display_data"
    }
   ],
   "source": [
    "# Create a boxplot to compare means\n",
    "combine_df.boxplot(\"PercentageFraud\", by=\"PercentageTotal\", figsize=(26, 10))"
   ]
  },
  {
   "cell_type": "markdown",
   "metadata": {},
   "source": [
    "Chi-square Test"
   ]
  },
  {
   "cell_type": "code",
   "execution_count": 38,
   "metadata": {},
   "outputs": [
    {
     "data": {
      "text/plain": [
       "4.4356665308251575"
      ]
     },
     "execution_count": 38,
     "metadata": {},
     "output_type": "execute_result"
    }
   ],
   "source": [
    "# The degree of freedom is 12-1 = 11\n",
    "# With a p-value of 0.05, the confidence level is 1.00-0.05 = 0.95\n",
    "critical_value = stats.chi.ppf(q = 0.95, df = 11)\n",
    "# The critical_value\n",
    "critical_value"
   ]
  },
  {
   "cell_type": "code",
   "execution_count": 39,
   "metadata": {},
   "outputs": [
    {
     "data": {
      "text/plain": [
       "Power_divergenceResult(statistic=4798.540682856918, pvalue=0.0)"
      ]
     },
     "execution_count": 39,
     "metadata": {},
     "output_type": "execute_result"
    }
   ],
   "source": [
    "stats.chisquare(combine_df['PercentageFraud'], combine_df['PercentageTotal'])"
   ]
  },
  {
   "cell_type": "markdown",
   "metadata": {},
   "source": [
    "Conclusion "
   ]
  },
  {
   "cell_type": "markdown",
   "metadata": {},
   "source": [
    "Chi-square is 4798.540682856918 > critical value 4.4356665308251575. Also, p Value = 0.0 < 0.05. Therefore, there is significant difference between the data set of fraud data set and total dataset \n",
    "\n"
   ]
  }
 ],
 "metadata": {
  "kernelspec": {
   "display_name": "dev",
   "language": "python",
   "name": "python3"
  },
  "language_info": {
   "codemirror_mode": {
    "name": "ipython",
    "version": 3
   },
   "file_extension": ".py",
   "mimetype": "text/x-python",
   "name": "python",
   "nbconvert_exporter": "python",
   "pygments_lexer": "ipython3",
   "version": "3.10.14"
  }
 },
 "nbformat": 4,
 "nbformat_minor": 2
}
